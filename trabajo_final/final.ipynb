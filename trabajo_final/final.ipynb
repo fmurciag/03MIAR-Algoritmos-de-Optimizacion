{
 "cells": [
  {
   "cell_type": "code",
   "execution_count": null,
   "metadata": {},
   "outputs": [],
   "source": []
  }
 ],
 "metadata": {
  "kernelspec": {
   "display_name": "Python 3.11.7 ('.venv': venv)",
   "language": "python",
   "name": "python3"
  },
  "language_info": {
   "name": "python",
   "version": "3.11.8"
  },
  "orig_nbformat": 4,
  "vscode": {
   "interpreter": {
    "hash": "23cb72e79384861cb3197085a9ebe6f227540b15623600b108f46f38e6d828cb"
   }
  }
 },
 "nbformat": 4,
 "nbformat_minor": 2
}
