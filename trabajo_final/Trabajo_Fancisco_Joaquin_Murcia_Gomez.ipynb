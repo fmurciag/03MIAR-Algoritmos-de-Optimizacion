{
  "cells": [
    {
      "cell_type": "markdown",
      "metadata": {
        "id": "hVbXYX-RfPWh"
      },
      "source": [
        "# Algoritmos de optimización - Trabajo Práctico<br>\n",
        "Nombre y Apellidos: Francisco Joaquin Murcia Gomez  <br>\n",
        "Url: https://github.com/.../03MAIR---Algoritmos-de-Optimizacion---/tree/master/TrabajoPractico<br>\n",
        "Google Colab: https://colab.research.google.com/drive/13_H_75SPPYNoGVqZOalVjRVPVBVm6B6k?usp=sharing <br>\n",
        "Problema:\n",
        ">1. Sesiones de doblaje <br>\n",
        "\n",
        "\n",
        "Se precisa coordinar el doblaje de una película. Los actores del doblaje deben coincidir en las tomas en las que sus personajes aparecen juntos en las diferentes tomas. Los actores de doblaje cobran todos la misma cantidad por cada día que deben desplazarse hasta el estudio de grabación independientemente del número de tomas que se graben. No es posible grabar más de 6 tomas por día. El objetivo es planificar las sesiones por día de manera que el gasto por los servicios de los actores de doblaje sea el menor posible. Los datos son:\n",
        "\n",
        "- Número de actores: 10\n",
        "- Número de tomas: 30\n",
        "....\n",
        "\n",
        "\n",
        "\n",
        "\n",
        "\n",
        "\n",
        "\n",
        "                                        "
      ]
    },
    {
      "cell_type": "markdown",
      "metadata": {
        "id": "Sbo9IqQtpaHZ"
      },
      "source": [
        "# Modelo\n",
        "### ¿Como represento el espacio de soluciones?\n",
        "\n",
        "La estructura de datos que ha elegido para representar la solución es una lista de listas, donde cada lista interna representa las tomas asignadas a un día específico de grabación, un ejemplo de solución seria:\n",
        "\n",
        "```python \n",
        "[[0, 10, 11, 25, 24, 3], [5, 19, 6, 9, 21, 2], [4, 12, 7, 8, 1, 14], [13, 28, 15, 16, 17, 18], [20, 22, 23, 26, 27, 29]]\n",
        "```\n",
        "donde cada sublista representa un día de grabación, del primer día al quinto día, en cada sublista loa números representan las tomas que se van a rodar ese día, en ejemplo dado, en el día 2 se van a rodar las tomas 5, 19, 6, 9, 21 y 2.\n",
        "\n",
        "A la hora de imprimir el resultado he decidido que me imprima el orden de las tomas y hacer una tabla donde se represente los días, tomas a rodar, el número de actores convocados y el costo del día:\n",
        "\n",
        "```\n",
        "Calendario de sesiones:\n",
        "Orden de las tomas: [18, 24, 7, 2, 9, 28, 26, 21, 16, 8, 13, 11, 25, 19, 30, 17, 22, 23, 29, 1, 20, 12, 14, 10, 15, 4, 3, 5, 27, 6]\n",
        "Horario:\n",
        "Día                  Tomas  Numero de actores  Coste de la sesion (€)\n",
        "    1    18, 24, 7, 2, 9, 28                  6                     180\n",
        "    2  26, 21, 16, 8, 13, 11                  9                     270\n",
        "    3 25, 19, 30, 17, 22, 23                  5                     150\n",
        "    4  29, 1, 20, 12, 14, 10                  7                     210\n",
        "    5     15, 4, 3, 5, 27, 6                  6                     180\n",
        "    \n",
        "Coste Total:: 990€\n",
        "```\n",
        "\n",
        "### ¿Cual es la función objetivo?\n",
        "\n",
        "La función objetivo sería minimizar el numero ve veces que tengo que convocar a los actores ($A_i$) para que el coste de la producción sea el mínimo.\n",
        "\n",
        "$$\n",
        "\\text{Minimizar } Z = \\sum_{i=1}^{D} A_i\n",
        "$$\n",
        "\n",
        "Aquí, $Z$ es el objetivo que buscamos minimizar, que representa el total de actores-día necesarios para completar la grabación, sumando los actores necesarios en cada uno de los $D$ días de grabación. La meta es organizar el calendario de grabación de manera que este total ($Z$) sea lo más bajo posible, lo que indirectamente minimizará el costo total bajo la premisa de que el costo por actor por día es constante y no se considera en la optimización directamente.\n",
        "### ¿Como implemento las restricciones?\n",
        "\n",
        "Tendremos que aplicar dos principales restricciones:\n",
        "- Restricción de tomas por día: Se asegura de que cada lista interna no contenga más de 6 tomas, lo que refleja la limitación de no poder grabar más de 6 tomas por día.\n",
        "- Asignación de todas las tomas: Se debe asegurar que cada toma esté asignada a algún día."
      ]
    },
    {
      "cell_type": "markdown",
      "metadata": {},
      "source": []
    },
    {
      "cell_type": "markdown",
      "metadata": {
        "id": "HZz52wOppp-U"
      },
      "source": [
        "## Análisis\n",
        "### ¿Que complejidad tiene el problema? Orden de complejidad y Contabilizar el espacio de soluciones\n",
        "\n",
        "Sin restricciones, el número total de posibilidades es $\\left(\\binom{n}{0} + \\binom{n}{1} + ... + \\binom{n}{n-1} + \\binom{n}{n} \\right) n! = 2^n n!$  tomas resulta en aproximadamente $2.8 \\cdot 10^{41}$.\n",
        "\n",
        "Con restricciones, considerando solo hasta 6 tomas por día, el número total de posibilidades se calcula como $\\left(\\binom{n}{0} + \\binom{n}{1} + ... + \\binom{n}{6} \\right) n! $, resulta en aproximadamente $2.04 \\cdot 10^{38}$.\n",
        "\n"
      ]
    },
    {
      "cell_type": "markdown",
      "metadata": {
        "id": "ixEJUwH_pv7M"
      },
      "source": [
        "# Diseño"
      ]
    },
    {
      "cell_type": "code",
      "execution_count": 2,
      "metadata": {},
      "outputs": [
        {
          "name": "stderr",
          "output_type": "stream",
          "text": [
            "C:\\Users\\Usuario\\AppData\\Local\\Temp\\ipykernel_12580\\1192134680.py:3: DeprecationWarning: \n",
            "Pyarrow will become a required dependency of pandas in the next major release of pandas (pandas 3.0),\n",
            "(to allow more performant data types, such as the Arrow string type, and better interoperability with other libraries)\n",
            "but was not found to be installed on your system.\n",
            "If this would cause problems for you,\n",
            "please provide us feedback at https://github.com/pandas-dev/pandas/issues/54466\n",
            "        \n",
            "  import pandas as pd\n"
          ]
        }
      ],
      "source": [
        "import numpy as np\n",
        "import itertools\n",
        "import pandas as pd\n",
        "\n",
        "TABLA_ESCENAS = np.array([\n",
        "    [1, 1, 1, 1, 1, 0, 0, 0, 0, 0],\n",
        "    [0, 0, 1, 1, 1, 0, 0, 0, 0, 0],\n",
        "    [0, 1, 0, 0, 1, 0, 1, 0, 0, 0],\n",
        "    [1, 1, 0, 0, 0, 0, 1, 1, 0, 0],\n",
        "    [0, 1, 0, 1, 0, 0, 0, 1, 0, 0],\n",
        "    [1, 1, 0, 1, 1, 0, 0, 0, 0, 0],\n",
        "    [1, 1, 0, 1, 1, 0, 0, 0, 0, 0],\n",
        "    [1, 1, 0, 0, 0, 1, 0, 0, 0, 0],\n",
        "    [1, 1, 0, 1, 0, 0, 0, 0, 0, 0],\n",
        "    [1, 1, 0, 0, 0, 1, 0, 0, 1, 0],\n",
        "    [1, 1, 1, 0, 1, 0, 0, 1, 0, 0],\n",
        "    [1, 1, 1, 1, 0, 1, 0, 0, 0, 0],\n",
        "    [1, 0, 0, 1, 1, 0, 0, 0, 0, 0],\n",
        "    [1, 0, 1, 0, 0, 1, 0, 0, 0, 0],\n",
        "    [1, 1, 0, 0, 0, 0, 1, 0, 0, 0],\n",
        "    [0, 0, 0, 1, 0, 0, 0, 0, 0, 1],\n",
        "    [1, 0, 1, 0, 0, 0, 0, 0, 0, 0],\n",
        "    [0, 0, 1, 0, 0, 1, 0, 0, 0, 0],\n",
        "    [1, 0, 1, 0, 0, 0, 0, 0, 0, 0],\n",
        "    [1, 0, 1, 1, 1, 0, 0, 0, 0, 0],\n",
        "    [0, 0, 0, 0, 0, 1, 0, 1, 0, 0],\n",
        "    [1, 1, 1, 1, 0, 0, 0, 0, 0, 0],\n",
        "    [1, 0, 1, 0, 0, 0, 0, 0, 0, 0],\n",
        "    [0, 0, 1, 0, 0, 1, 0, 0, 0, 0],\n",
        "    [1, 1, 0, 1, 0, 0, 0, 0, 0, 1],\n",
        "    [1, 0, 1, 0, 1, 0, 0, 0, 1, 0],\n",
        "    [0, 0, 0, 1, 1, 0, 0, 0, 0, 0],\n",
        "    [1, 0, 0, 1, 0, 0, 0, 0, 0, 0],\n",
        "    [1, 0, 0, 0, 1, 1, 0, 0, 0, 0],\n",
        "    [1, 0, 0, 1, 0, 0, 0, 0, 0, 0]\n",
        "])\n",
        "N_ESCENAS, N_ACTORES = TABLA_ESCENAS.shape\n",
        "N_DIAS = (N_ESCENAS + 5) // 6\n",
        "MAX_TOMAS_POR_DIA = 6\n",
        "COSTO_POR_ACTOR_POR_DIA = 30\n",
        "N_INTENTOS_MAX = 10"
      ]
    },
    {
      "cell_type": "code",
      "execution_count": 3,
      "metadata": {},
      "outputs": [],
      "source": [
        "def print_schedule(session_order=list(range(N_ESCENAS))):\n",
        "    schedule = [session_order[n : n + MAX_TOMAS_POR_DIA] for n in range(0, len(session_order), MAX_TOMAS_POR_DIA)]\n",
        "    schedule_details = []\n",
        "\n",
        "    print(\"\\n\\nCalendario de sesiones:\")\n",
        "    print(f\"Orden de sesiones: {[x + 1 for x in session_order]}\")\n",
        "\n",
        "    total_cost = 0\n",
        "    for day_num, day in enumerate(schedule, start=1):\n",
        "        shots = [x + 1 for x in day]\n",
        "        sum_shots = np.sum(TABLA_ESCENAS[day, :], axis=0)\n",
        "        num_actors = np.count_nonzero(sum_shots)\n",
        "        cost_per_day = num_actors * COSTO_POR_ACTOR_POR_DIA\n",
        "        total_cost += cost_per_day\n",
        "\n",
        "        schedule_details.append(\n",
        "            {\n",
        "                \"Día\": day_num,\n",
        "                \"Tomas\": \", \".join(map(str, shots)),\n",
        "                \"Numero de actores\": num_actors,\n",
        "                \"Coste de la sesion (€)\": cost_per_day,\n",
        "            }\n",
        "        )\n",
        "\n",
        "    df_schedule = pd.DataFrame(schedule_details)\n",
        "\n",
        "    print(\"Horario:\")\n",
        "    print(df_schedule.to_string(index=False))\n",
        "\n",
        "    print(f\"\\nCoste Total:: {total_cost}€\")\n",
        "def evaluar_solucion(solucion, data):\n",
        "    coste = 0\n",
        "    for sesion in solucion:\n",
        "        # Accede a las filas especificadas por los índices de 'sesion' en el array 'data'\n",
        "        data_sesion = data[sesion, :]\n",
        "        # Calcula si hay algún valor no cero en cada columna de 'data_sesion' y suma esos valores\n",
        "        # np.any(data_sesion != 0, axis=0) devuelve un array booleano a lo largo del eje de las columnas\n",
        "        # .sum() suma los valores True (considerados como 1)\n",
        "        coste += np.any(data_sesion != 0, axis=0).sum()\n",
        "\n",
        "    return coste"
      ]
    },
    {
      "cell_type": "markdown",
      "metadata": {},
      "source": [
        "### Fuerza bruta\n",
        "\n",
        "La fuerza bruta es conceptualmente simple y sencillo de implementar. El enfoque de fuerza bruta, aunque garantiza encontrar la solución óptima al evaluar todas las combinaciones posibles de tomas y actores por día, resulta extremadamente ineficiente para este problema grandes debido al vasto número de combinaciones a considerar, lo que lleva a tiempos de ejecución muy largos. A pesar de que las restricciones del problema ayudan a reducir este número, la escala del problema hace que el método siga siendo poco práctico."
      ]
    },
    {
      "cell_type": "code",
      "execution_count": 20,
      "metadata": {
        "id": "ZdKPjB9gp2BA"
      },
      "outputs": [
        {
          "name": "stdout",
          "output_type": "stream",
          "text": [
            "Coste: 1110€\n",
            "Coste: 1080€\n",
            "Coste: 1050€\n",
            "Coste: 1020€\n",
            "34\n"
          ]
        }
      ],
      "source": [
        "\n",
        "BEST_COST = float(\"inf\")  # Global variable to track the best total number of actors\n",
        "BEST_SCHEDULE = np.array([])\n",
        "\n",
        "\n",
        "def get_shot_combinations(remaining_shots, n):\n",
        "    \"\"\"Genera todas las combinaciones posibles de tomas a partir de las tomas restantes.\"\"\"\n",
        "    return np.array(list(itertools.combinations(remaining_shots, n)), dtype=int)\n",
        "\n",
        "\n",
        "def calculate_actors_in_shots(shots):\n",
        "    \"\"\"Calcula el número de actores que participan en un conjunto de tomas.\"\"\"\n",
        "    return len(np.unique(TABLA_ESCENAS[shots].nonzero()[1]))\n",
        "\n",
        "\n",
        "def save_posible_best_schedule(selected_shots, total_actors):\n",
        "    global BEST_COST\n",
        "    global BEST_SCHEDULE\n",
        "\n",
        "    if total_actors < BEST_COST:\n",
        "        BEST_COST = total_actors\n",
        "        BEST_SCHEDULE = selected_shots.copy()\n",
        "        #print_schedule(BEST_SCHEDULE.flatten())\n",
        "        print(f\"Coste: {BEST_COST*COSTO_POR_ACTOR_POR_DIA}€\")\n",
        "\n",
        "\n",
        "def generate_schedule_brute_algorithm(remaining_shots, selected_shots, total_actors):\n",
        "    \"\"\"Ejecuta el algoritmo por fuerza bruta\"\"\"\n",
        "\n",
        "    if len(remaining_shots) == 0:\n",
        "        save_posible_best_schedule(selected_shots, total_actors)\n",
        "        return\n",
        "\n",
        "    shot_combinations = get_shot_combinations(remaining_shots, MAX_TOMAS_POR_DIA)\n",
        "\n",
        "    for shots in shot_combinations:\n",
        "        actors = calculate_actors_in_shots(shots)\n",
        "        new_selected_shots = np.vstack((selected_shots, shots))\n",
        "        new_total_actors = total_actors + actors\n",
        "        new_remaining_shots = np.array([shot for shot in remaining_shots if shot not in shots])\n",
        "\n",
        "        generate_schedule_brute_algorithm(new_remaining_shots, new_selected_shots, new_total_actors)\n",
        "\n",
        "initial_schedule = np.arange(N_ESCENAS)\n",
        "np.random.shuffle(initial_schedule)\n",
        "try:\n",
        "    generate_schedule_brute_algorithm(initial_schedule, np.empty((0, MAX_TOMAS_POR_DIA), dtype=int), 0)\n",
        "except KeyboardInterrupt:\n",
        "    print_schedule(BEST_SCHEDULE.flatten())\n",
        "    #print(evaluar_solucion(BEST_SCHEDULE,TABLA_ESCENAS))"
      ]
    },
    {
      "cell_type": "markdown",
      "metadata": {},
      "source": [
        "## Algoritmo genetico\n",
        "(por implementar)"
      ]
    },
    {
      "cell_type": "markdown",
      "metadata": {},
      "source": [
        "## Algoritmo voraz\n",
        "(por implementar)"
      ]
    },
    {
      "cell_type": "code",
      "execution_count": 9,
      "metadata": {},
      "outputs": [
        {
          "name": "stdout",
          "output_type": "stream",
          "text": [
            "con coste:  840\n",
            "\n",
            "\n",
            "Calendario de sesiones:\n",
            "Orden de sesiones: [16, 27, 13, 28, 30, 25, 17, 19, 23, 14, 18, 24, 21, 5, 8, 9, 12, 22, 3, 15, 4, 11, 1, 6, 2, 20, 26, 7, 10, 29]\n",
            "Horario:\n",
            " Día                  Tomas  Numero de actores  Coste de la sesion (€)\n",
            "   1 16, 27, 13, 28, 30, 25                  5                     150\n",
            "   2 17, 19, 23, 14, 18, 24                  3                      90\n",
            "   3    21, 5, 8, 9, 12, 22                  6                     180\n",
            "   4     3, 15, 4, 11, 1, 6                  7                     210\n",
            "   5   2, 20, 26, 7, 10, 29                  7                     210\n",
            "\n",
            "Coste Total:: 840€\n"
          ]
        }
      ],
      "source": [
        "import numpy as np\n",
        "from copy import deepcopy\n",
        "\n",
        "MAX_TOMAS_POR_DIA = 6\n",
        "\n",
        "\n",
        "def evaluar_solucion(solucion, data):\n",
        "    coste = 0\n",
        "    for sesion in solucion:\n",
        "        coste += np.any(data[sesion, :] != 0, axis=0).sum()\n",
        "\n",
        "    return coste\n",
        "\n",
        "\n",
        "def ordenar_tomas(tomas, data):\n",
        "    suma_filas = np.sum(data, axis=1)\n",
        "    indices_ordenados = np.argsort(suma_filas)[::-1]\n",
        "    return tomas[indices_ordenados]\n",
        "\n",
        "\n",
        "def seleccion_voraz(solucion, sesion, tomas, data):\n",
        "    mejor_toma = tomas[0]\n",
        "\n",
        "    solucion_temp = deepcopy(solucion)\n",
        "    sesion_temp = deepcopy(sesion)\n",
        "\n",
        "    solucion_temp.append(sesion_temp + [mejor_toma])\n",
        "    menor_coste = evaluar_solucion(solucion_temp, data)\n",
        "    for i in range(1, len(tomas)):\n",
        "        solucion_temp = deepcopy(solucion)\n",
        "        sesion_temp = deepcopy(sesion)\n",
        "        solucion_temp.append(sesion_temp + [tomas[i]])\n",
        "        coste = evaluar_solucion(solucion_temp, data)\n",
        "\n",
        "        if coste < menor_coste:\n",
        "            mejor_toma = tomas[i]\n",
        "            menor_coste = coste\n",
        "\n",
        "    return mejor_toma\n",
        "\n",
        "\n",
        "def busqueda_voraz(data):\n",
        "\n",
        "    solucion = []\n",
        "    tomas = np.arange(data.shape[0])\n",
        "    tomas = ordenar_tomas(tomas, data)\n",
        "\n",
        "    ses_cont = 0\n",
        "    while tomas.shape[0] > 0:\n",
        "        sesion = []\n",
        "        for _ in range(6):\n",
        "            mejor_toma = seleccion_voraz(solucion, sesion, tomas, data)\n",
        "            sesion += [mejor_toma]\n",
        "            idx = np.argwhere(tomas == mejor_toma)\n",
        "            tomas = np.delete(tomas, idx)\n",
        "        solucion.append(sesion)\n",
        "        ses_cont += 1\n",
        "\n",
        "    return solucion\n",
        "\n",
        "\n",
        "sol = busqueda_voraz(TABLA_ESCENAS)\n",
        "print(\"Costo: \", evaluar_solucion(sol, TABLA_ESCENAS) * 30)\n",
        "print_schedule(np.array(sol).flatten())    \n"
      ]
    },
    {
      "cell_type": "markdown",
      "metadata": {},
      "source": [
        "# Mejor candidato\n",
        "(a falta de implementar el resto de algoritmos)"
      ]
    }
  ],
  "metadata": {
    "colab": {
      "provenance": []
    },
    "kernelspec": {
      "display_name": "Python 3.11.7 ('.venv': venv)",
      "language": "python",
      "name": "python3"
    },
    "language_info": {
      "codemirror_mode": {
        "name": "ipython",
        "version": 3
      },
      "file_extension": ".py",
      "mimetype": "text/x-python",
      "name": "python",
      "nbconvert_exporter": "python",
      "pygments_lexer": "ipython3",
      "version": "3.11.8"
    },
    "vscode": {
      "interpreter": {
        "hash": "23cb72e79384861cb3197085a9ebe6f227540b15623600b108f46f38e6d828cb"
      }
    }
  },
  "nbformat": 4,
  "nbformat_minor": 0
}
