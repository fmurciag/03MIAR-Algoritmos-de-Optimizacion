{
 "cells": [
  {
   "cell_type": "code",
   "execution_count": 1,
   "metadata": {},
   "outputs": [
    {
     "ename": "ModuleNotFoundError",
     "evalue": "No module named 'pandas'",
     "output_type": "error",
     "traceback": [
      "\u001b[1;31m---------------------------------------------------------------------------\u001b[0m",
      "\u001b[1;31mModuleNotFoundError\u001b[0m                       Traceback (most recent call last)",
      "Cell \u001b[1;32mIn[1], line 3\u001b[0m\n\u001b[0;32m      1\u001b[0m \u001b[39mimport\u001b[39;00m \u001b[39mrandom\u001b[39;00m\n\u001b[0;32m      2\u001b[0m \u001b[39mimport\u001b[39;00m \u001b[39mnumpy\u001b[39;00m \u001b[39mas\u001b[39;00m \u001b[39mnp\u001b[39;00m\n\u001b[1;32m----> 3\u001b[0m \u001b[39mimport\u001b[39;00m \u001b[39mpandas\u001b[39;00m \u001b[39mas\u001b[39;00m \u001b[39mpd\u001b[39;00m\n\u001b[0;32m      4\u001b[0m \u001b[39mdef\u001b[39;00m \u001b[39mread_csv_to_dataframe\u001b[39m(csv_path):\n\u001b[0;32m      5\u001b[0m \u001b[39m    \u001b[39m\u001b[39m\"\"\"\u001b[39;00m\n\u001b[0;32m      6\u001b[0m \u001b[39m    Lee un archivo CSV y lo convierte en un DataFrame de pandas.\u001b[39;00m\n\u001b[0;32m      7\u001b[0m \n\u001b[0;32m      8\u001b[0m \u001b[39m    :param csv_path: Ruta del archivo CSV.\u001b[39;00m\n\u001b[0;32m      9\u001b[0m \u001b[39m    :return: DataFrame de pandas.\u001b[39;00m\n\u001b[0;32m     10\u001b[0m \u001b[39m    \"\"\"\u001b[39;00m\n",
      "\u001b[1;31mModuleNotFoundError\u001b[0m: No module named 'pandas'"
     ]
    }
   ],
   "source": [
    "import random\n",
    "import numpy as np\n",
    "import pandas as pd\n",
    "def read_csv_to_dataframe(csv_path):\n",
    "    \"\"\"\n",
    "    Lee un archivo CSV y lo convierte en un DataFrame de pandas.\n",
    "\n",
    "    :param csv_path: Ruta del archivo CSV.\n",
    "    :return: DataFrame de pandas.\n",
    "    \"\"\"\n",
    "    try:\n",
    "        # Intentar leer el archivo CSV\n",
    "        df = pd.read_csv(csv_path)\n",
    "        return df\n",
    "    except Exception as e:\n",
    "        # En caso de un error, retornar el mensaje de error\n",
    "        return str(e)\n",
    "\n",
    "# Usamos la función para leer el archivo CSV que se cargó anteriormente\n",
    "csv_path = 'trabajo_final/genetico\\Libro1.csv'\n",
    "df = read_csv_to_dataframe(csv_path)\n",
    "df"
   ]
  }
 ],
 "metadata": {
  "kernelspec": {
   "display_name": "Python 3.11.7 64-bit (microsoft store)",
   "language": "python",
   "name": "python3"
  },
  "language_info": {
   "codemirror_mode": {
    "name": "ipython",
    "version": 3
   },
   "file_extension": ".py",
   "mimetype": "text/x-python",
   "name": "python",
   "nbconvert_exporter": "python",
   "pygments_lexer": "ipython3",
   "version": "3.11.7"
  },
  "orig_nbformat": 4,
  "vscode": {
   "interpreter": {
    "hash": "c6d24f28c59bb49c441dc51ffa980db1c7efe4954db3820543d532bf279ddef3"
   }
  }
 },
 "nbformat": 4,
 "nbformat_minor": 2
}
